{
 "cells": [
  {
   "cell_type": "code",
   "execution_count": 1,
   "id": "a996259b",
   "metadata": {},
   "outputs": [],
   "source": [
    "import pandas as pd \n",
    "import matplotlib.pyplot as plt\n",
    "import seaborn as sns\n",
    "import numpy as np\n",
    "from datetime import datetime\n",
    "from sklearn.metrics import mean_squared_error\n",
    "from math import sqrt"
   ]
  },
  {
   "cell_type": "code",
   "execution_count": 2,
   "id": "14879e44",
   "metadata": {},
   "outputs": [
    {
     "data": {
      "text/html": [
       "<div>\n",
       "<style scoped>\n",
       "    .dataframe tbody tr th:only-of-type {\n",
       "        vertical-align: middle;\n",
       "    }\n",
       "\n",
       "    .dataframe tbody tr th {\n",
       "        vertical-align: top;\n",
       "    }\n",
       "\n",
       "    .dataframe thead th {\n",
       "        text-align: right;\n",
       "    }\n",
       "</style>\n",
       "<table border=\"1\" class=\"dataframe\">\n",
       "  <thead>\n",
       "    <tr style=\"text-align: right;\">\n",
       "      <th></th>\n",
       "      <th>Name</th>\n",
       "      <th>Age</th>\n",
       "      <th>Occupation</th>\n",
       "      <th>Hometown</th>\n",
       "      <th>ElimWeek</th>\n",
       "      <th>Season</th>\n",
       "    </tr>\n",
       "  </thead>\n",
       "  <tbody>\n",
       "    <tr>\n",
       "      <th>0</th>\n",
       "      <td>Ryan Sutter</td>\n",
       "      <td>29</td>\n",
       "      <td>Firefighter</td>\n",
       "      <td>Vail, Colorado</td>\n",
       "      <td>NaN</td>\n",
       "      <td>1</td>\n",
       "    </tr>\n",
       "    <tr>\n",
       "      <th>1</th>\n",
       "      <td>Charlie Maher</td>\n",
       "      <td>28</td>\n",
       "      <td>Financial Analyst</td>\n",
       "      <td>Hermosa Beach, California</td>\n",
       "      <td>6.0</td>\n",
       "      <td>1</td>\n",
       "    </tr>\n",
       "    <tr>\n",
       "      <th>2</th>\n",
       "      <td>Russ</td>\n",
       "      <td>30</td>\n",
       "      <td>Writer</td>\n",
       "      <td>San Rafael, California</td>\n",
       "      <td>5.0</td>\n",
       "      <td>1</td>\n",
       "    </tr>\n",
       "    <tr>\n",
       "      <th>3</th>\n",
       "      <td>Greg T.</td>\n",
       "      <td>28</td>\n",
       "      <td>Importer</td>\n",
       "      <td>Manhattan, New York</td>\n",
       "      <td>4.0</td>\n",
       "      <td>1</td>\n",
       "    </tr>\n",
       "    <tr>\n",
       "      <th>4</th>\n",
       "      <td>Bob Guiney</td>\n",
       "      <td>31</td>\n",
       "      <td>Mortgage Broker</td>\n",
       "      <td>Ferndale, Michigan</td>\n",
       "      <td>3.0</td>\n",
       "      <td>1</td>\n",
       "    </tr>\n",
       "  </tbody>\n",
       "</table>\n",
       "</div>"
      ],
      "text/plain": [
       "            Name  Age         Occupation                   Hometown  ElimWeek  \\\n",
       "0    Ryan Sutter   29        Firefighter             Vail, Colorado       NaN   \n",
       "1  Charlie Maher   28  Financial Analyst  Hermosa Beach, California       6.0   \n",
       "2           Russ   30             Writer     San Rafael, California       5.0   \n",
       "3        Greg T.   28           Importer        Manhattan, New York       4.0   \n",
       "4     Bob Guiney   31    Mortgage Broker         Ferndale, Michigan       3.0   \n",
       "\n",
       "   Season  \n",
       "0       1  \n",
       "1       1  \n",
       "2       1  \n",
       "3       1  \n",
       "4       1  "
      ]
     },
     "execution_count": 2,
     "metadata": {},
     "output_type": "execute_result"
    }
   ],
   "source": [
    "bachelorette = pd.read_csv('bachelorette-contestants.csv')\n",
    "bachelorette.head()"
   ]
  },
  {
   "cell_type": "code",
   "execution_count": 3,
   "id": "7413f001",
   "metadata": {},
   "outputs": [
    {
     "data": {
      "text/html": [
       "<div>\n",
       "<style scoped>\n",
       "    .dataframe tbody tr th:only-of-type {\n",
       "        vertical-align: middle;\n",
       "    }\n",
       "\n",
       "    .dataframe tbody tr th {\n",
       "        vertical-align: top;\n",
       "    }\n",
       "\n",
       "    .dataframe thead th {\n",
       "        text-align: right;\n",
       "    }\n",
       "</style>\n",
       "<table border=\"1\" class=\"dataframe\">\n",
       "  <thead>\n",
       "    <tr style=\"text-align: right;\">\n",
       "      <th></th>\n",
       "      <th>Name</th>\n",
       "      <th>Age</th>\n",
       "      <th>Occupation</th>\n",
       "      <th>Hometown</th>\n",
       "      <th>Height</th>\n",
       "      <th>ElimWeek</th>\n",
       "      <th>Season</th>\n",
       "    </tr>\n",
       "  </thead>\n",
       "  <tbody>\n",
       "    <tr>\n",
       "      <th>0</th>\n",
       "      <td>Amanda Marsh</td>\n",
       "      <td>23.0</td>\n",
       "      <td>Event Planner</td>\n",
       "      <td>Chanute, Kansas</td>\n",
       "      <td>NaN</td>\n",
       "      <td>NaN</td>\n",
       "      <td>1</td>\n",
       "    </tr>\n",
       "    <tr>\n",
       "      <th>1</th>\n",
       "      <td>Trista Rehn</td>\n",
       "      <td>29.0</td>\n",
       "      <td>Miami Heat Dancer</td>\n",
       "      <td>Miami, Florida</td>\n",
       "      <td>NaN</td>\n",
       "      <td>6.0</td>\n",
       "      <td>1</td>\n",
       "    </tr>\n",
       "    <tr>\n",
       "      <th>2</th>\n",
       "      <td>Shannon Oliver</td>\n",
       "      <td>24.0</td>\n",
       "      <td>Financial Management Consultant</td>\n",
       "      <td>Dallas, Texas</td>\n",
       "      <td>NaN</td>\n",
       "      <td>5.0</td>\n",
       "      <td>1</td>\n",
       "    </tr>\n",
       "    <tr>\n",
       "      <th>3</th>\n",
       "      <td>Kim</td>\n",
       "      <td>24.0</td>\n",
       "      <td>Nanny</td>\n",
       "      <td>Tempe, Arizona</td>\n",
       "      <td>NaN</td>\n",
       "      <td>4.0</td>\n",
       "      <td>1</td>\n",
       "    </tr>\n",
       "    <tr>\n",
       "      <th>4</th>\n",
       "      <td>Cathy Grimes</td>\n",
       "      <td>22.0</td>\n",
       "      <td>Graduate Student</td>\n",
       "      <td>Terra Haute, Indiana</td>\n",
       "      <td>NaN</td>\n",
       "      <td>3.0</td>\n",
       "      <td>1</td>\n",
       "    </tr>\n",
       "  </tbody>\n",
       "</table>\n",
       "</div>"
      ],
      "text/plain": [
       "             Name   Age                       Occupation  \\\n",
       "0    Amanda Marsh  23.0                    Event Planner   \n",
       "1     Trista Rehn  29.0                Miami Heat Dancer   \n",
       "2  Shannon Oliver  24.0  Financial Management Consultant   \n",
       "3             Kim  24.0                            Nanny   \n",
       "4    Cathy Grimes  22.0                 Graduate Student   \n",
       "\n",
       "               Hometown  Height  ElimWeek  Season  \n",
       "0       Chanute, Kansas     NaN       NaN       1  \n",
       "1        Miami, Florida     NaN       6.0       1  \n",
       "2         Dallas, Texas     NaN       5.0       1  \n",
       "3        Tempe, Arizona     NaN       4.0       1  \n",
       "4  Terra Haute, Indiana     NaN       3.0       1  "
      ]
     },
     "execution_count": 3,
     "metadata": {},
     "output_type": "execute_result"
    }
   ],
   "source": [
    "bachelor = pd.read_csv('bachelor-contestants.csv')\n",
    "bachelor.head()"
   ]
  },
  {
   "cell_type": "code",
   "execution_count": 4,
   "id": "965467ab",
   "metadata": {},
   "outputs": [
    {
     "name": "stdout",
     "output_type": "stream",
     "text": [
      "<class 'pandas.core.frame.DataFrame'>\n",
      "RangeIndex: 282 entries, 0 to 281\n",
      "Data columns (total 6 columns):\n",
      " #   Column      Non-Null Count  Dtype  \n",
      "---  ------      --------------  -----  \n",
      " 0   Name        282 non-null    object \n",
      " 1   Age         282 non-null    int64  \n",
      " 2   Occupation  282 non-null    object \n",
      " 3   Hometown    282 non-null    object \n",
      " 4   ElimWeek    271 non-null    float64\n",
      " 5   Season      282 non-null    int64  \n",
      "dtypes: float64(1), int64(2), object(3)\n",
      "memory usage: 13.3+ KB\n"
     ]
    }
   ],
   "source": [
    "bachelorette.info()"
   ]
  },
  {
   "cell_type": "code",
   "execution_count": 5,
   "id": "15ec14a4",
   "metadata": {},
   "outputs": [
    {
     "name": "stdout",
     "output_type": "stream",
     "text": [
      "Italy\n",
      "bachelor complete...\n",
      "bachelorette complete...\n"
     ]
    }
   ],
   "source": [
    "def get_state(x):\n",
    "    ''' \n",
    "    Extracts the state from the hometown column. \n",
    "    Isnt fully effective since there are other countries and abbreviations.\n",
    "    '''\n",
    "    if type(x)==str:\n",
    "        try:\n",
    "            return x.split(',')[1].strip()\n",
    "        except IndexError:\n",
    "            print(x)\n",
    "\n",
    "bachelor['state'] = bachelor.Hometown.map(get_state)\n",
    "print('bachelor complete...')\n",
    "bachelorette['state'] = bachelorette.Hometown.map(get_state)\n",
    "print('bachelorette complete...')"
   ]
  },
  {
   "cell_type": "code",
   "execution_count": 6,
   "id": "32b2b89c",
   "metadata": {},
   "outputs": [],
   "source": [
    "def state_sums(df, plot=False):\n",
    "    '''Returns sorted series tallying number of contestants from a state'''\n",
    "    # create dummies to sum\n",
    "    state_counts = pd.get_dummies(df.state)\n",
    "    state_sums = state_counts.sum(axis=0).sort_values()\n",
    "    if plot:\n",
    "        plt.figure(figsize=(15,10))\n",
    "        sns.barplot(x=state_sums.index, y=state_sums)\n",
    "        plt.xticks(rotation='vertical')\n",
    "    return state_sums"
   ]
  },
  {
   "cell_type": "code",
   "execution_count": 7,
   "id": "1addfb8e",
   "metadata": {},
   "outputs": [
    {
     "data": {
      "image/png": "[encoded data removed]",
      "text/plain": [
       "<Figure size 1080x720 with 1 Axes>"
      ]
     },
     "metadata": {
      "needs_background": "light"
     },
     "output_type": "display_data"
    }
   ],
   "source": [
    "bachelor_state_sums = state_sums(bachelor, plot=True)"
   ]
  },
  {
   "cell_type": "code",
   "execution_count": null,
   "id": "5cb9384d",
   "metadata": {},
   "outputs": [],
   "source": []
  }
 ],
 "metadata": {
  "kernelspec": {
   "display_name": "Python 3 (ipykernel)",
   "language": "python",
   "name": "python3"
  },
  "language_info": {
   "codemirror_mode": {
    "name": "ipython",
    "version": 3
   },
   "file_extension": ".py",
   "mimetype": "text/x-python",
   "name": "python",
   "nbconvert_exporter": "python",
   "pygments_lexer": "ipython3",
   "version": "3.9.12"
  }
 },
 "nbformat": 4,
 "nbformat_minor": 5
}
